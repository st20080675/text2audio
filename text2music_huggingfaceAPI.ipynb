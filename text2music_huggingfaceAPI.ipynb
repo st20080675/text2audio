{
  "nbformat": 4,
  "nbformat_minor": 0,
  "metadata": {
    "colab": {
      "provenance": [],
      "authorship_tag": "ABX9TyNZBPHgpLJwIQaEdHGA1KdO",
      "include_colab_link": true
    },
    "kernelspec": {
      "name": "python3",
      "display_name": "Python 3"
    },
    "language_info": {
      "name": "python"
    }
  },
  "cells": [
    {
      "cell_type": "markdown",
      "metadata": {
        "id": "view-in-github",
        "colab_type": "text"
      },
      "source": [
        "<a href=\"https://colab.research.google.com/github/st20080675/text2audio/blob/main/text2music_huggingfaceAPI.ipynb\" target=\"_parent\"><img src=\"https://colab.research.google.com/assets/colab-badge.svg\" alt=\"Open In Colab\"/></a>"
      ]
    },
    {
      "cell_type": "code",
      "execution_count": null,
      "metadata": {
        "id": "9qGlYu6ATWYo"
      },
      "outputs": [],
      "source": [
        "from transformers import pipeline\n",
        "\n",
        "music_generator = pipeline(task=\"text-to-audio\", model=\"facebook/musicgen-small\", framework=\"pt\")\n",
        "\n",
        "# diversify the music generation by adding randomness with a high temperature and set a maximum music length\n",
        "generate_kwargs = {\n",
        "    \"do_sample\": True,\n",
        "    \"temperature\": 0.7,\n",
        "    \"max_new_tokens\": 35,\n",
        "}\n",
        "\n",
        "outputs = music_generator(\"Techno music with high melodic riffs\")\n",
        "# print(outputs)"
      ]
    },
    {
      "cell_type": "code",
      "source": [
        "outputs = music_generator(\"Techno music with high melodic riffs\")"
      ],
      "metadata": {
        "colab": {
          "base_uri": "https://localhost:8080/"
        },
        "id": "x1rI8rnBT986",
        "outputId": "682e44b6-ff34-47f4-c558-8ce09cd4cce7"
      },
      "execution_count": 3,
      "outputs": [
        {
          "output_type": "stream",
          "name": "stderr",
          "text": [
            "Using the model-agnostic default `max_length` (=1500) to control the generation length. We recommend setting `max_new_tokens` to control the maximum length of the generation.\n"
          ]
        }
      ]
    },
    {
      "cell_type": "code",
      "source": [
        "from scipy.io.wavfile import write\n",
        "\n",
        "audio = outputs[\"audio\"]\n",
        "sampling_rate = outputs[\"sampling_rate\"]\n",
        "\n",
        "\n",
        "# scaled = np.int16(audio[0] / np.max(np.abs(audio[0])) * 32767)  # no difference\n",
        "write('test.wav', sampling_rate, audio)"
      ],
      "metadata": {
        "id": "doHcX9-qWaUN"
      },
      "execution_count": 6,
      "outputs": []
    }
  ]
}